{
  "cells": [
    {
      "cell_type": "markdown",
      "metadata": {
        "id": "view-in-github",
        "colab_type": "text"
      },
      "source": [
        "<a href=\"https://colab.research.google.com/github/marymlucas/scrap/blob/main/project.ipynb\" target=\"_parent\"><img src=\"https://colab.research.google.com/assets/colab-badge.svg\" alt=\"Open In Colab\"/></a>"
      ]
    },
    {
      "cell_type": "markdown",
      "id": "0c027386",
      "metadata": {
        "id": "0c027386"
      },
      "source": [
        "# DSCI 521: Data Analysis and Interpretation\n",
        "\n",
        "# Term Project"
      ]
    },
    {
      "cell_type": "markdown",
      "id": "0d155175",
      "metadata": {
        "id": "0d155175"
      },
      "source": [
        "## Team Members\n",
        "\n",
        "- Team member 1\n",
        "    - Name: Andrew Appleton\n",
        "    - Email: aa4498@drexel.edu    \n",
        "    - Background and skills: 10 years experience in Health Sciences, Limited Python experience\n",
        "- Team member 2\n",
        "    - Name:  Layla Bouzoubaa\n",
        "    - Email: lb3338@drexel.edu\n",
        "    - Background and skills: MS in Public Health with a concentration in Biostatistics. Advanced R user, novel Pythonista, strong familiarity with public health data science pipeline and research.\n",
        "- Team member 3\n",
        "    - Name:  Alicia Brandemarte\n",
        "    - Email: amb847@drexel.edu\n",
        "    - Background and skills: Healthcare Informatics, R, SQL, Business Intelligence.  Limited Python skills, seeking to expand Python Skills.\n",
        "- Team member 4\n",
        "    - Name: Stephan Dupoux\n",
        "    - Email: sgd45@drexel.edu    \n",
        "    - Background and skills: 5 years of building machine learning , 5 years of Python programming such as building ETL pipelines and other web based applications. \n",
        "- Team member 5\n",
        "    - Name: Mary Lucas\n",
        "    - Email: mml367@drexel.edu\n",
        "    - Background and skills: Extensive healthcare clinical experience, some experience in SQL, Python, and R programming and machine learning. \n",
        "- Team member 6\n",
        "    - Name: Shane Nelson\n",
        "    - Email: sn888@drexel.edu\n",
        "    - Background and skills: 2 years experience working at a clinical research organization. Somewhat limited Python experience however continuously seeking to improve skills.\n"
      ]
    },
    {
      "cell_type": "markdown",
      "id": "c5302f75",
      "metadata": {
        "id": "c5302f75"
      },
      "source": [
        "# Introduction\n",
        "\n",
        "The COVID-19 pandemic is an ongoing global crisis that has had a major impact on individuals and communities over the past two years.  It has resulted in significant disruptions to our way of life and the services and resources we depend on on a day to day basis.  \n",
        "\n",
        "The pandemic and its effects in terms of loss to life and livelihood have also made it more evident that there are disparities in access to care and resources across the globe based on geography, race, and other factors.\n",
        "  \n",
        "All code can be found on our [Github repository](https://github.com/labouz/covid_vulnerability/)  The data is available for download from the links in the Data Sources section."
      ]
    },
    {
      "cell_type": "markdown",
      "id": "60643b74",
      "metadata": {
        "id": "60643b74"
      },
      "source": [
        "### Motivating Questions to Address\n",
        "The main questions that we hoped to address in this work were: \n",
        "\n",
        "  * the impact COVID-19 has had on hospital capacity in different regions of the country over time\n",
        "  * the community burden of the COVID-19 pandemic\n",
        "  * health disparities in the COVID-19 impact across different regions of the country\n",
        "\n"
      ]
    },
    {
      "cell_type": "markdown",
      "id": "4c527ccf",
      "metadata": {
        "id": "4c527ccf"
      },
      "source": [
        "### Design of the Study\n",
        "\n",
        "...."
      ]
    },
    {
      "cell_type": "markdown",
      "id": "259d762c",
      "metadata": {
        "id": "259d762c"
      },
      "source": [
        "## Data\n",
        "\n",
        "We analysed hospitalization burden due to the COVID19 pandemic in different states.  The main dataset we used was obtained from The US Department of Health and Human Services as healthdata.gov and is publically available. The datasets are non-identifiable and contain no protected health information. \n",
        "\n",
        "- [COVID-19 Reported Patient Impact and Hospital Capacity by State Timeseries](https://healthdata.gov/Hospital/COVID-19-Reported-Patient-Impact-and-Hospital-Capa/g62h-syeh)\n",
        "- [COVID-19 Community Vulnerability Crosswalk - Rank Ordered by Score](https://catalog.data.gov/dataset/covid-19-community-vulnerability-crosswalk-rank-ordered-by-score)\n",
        "\n",
        "Supplementary data on the different states was obtained from other sources and will be mentioned in the relevant sections of this report.\n",
        "\n",
        "\n",
        "### Structure\n",
        "The hospital capacity timeseries data used is provided in various formats including CSV, TSV, GEOJSON, XML, and more.  It is updated on a daily basis and can be downloaded via the Socrata API or by direct export from the healthdata.gov link provided. \n",
        "\n",
        "As of the last download of the final dataset for this project the file contained 39,701 rows and 117 columns with each row representing a daily state aggregated report. "
      ]
    },
    {
      "cell_type": "code",
      "source": [
        ""
      ],
      "metadata": {
        "id": "E8tRXFPxNyc2"
      },
      "id": "E8tRXFPxNyc2",
      "execution_count": null,
      "outputs": []
    },
    {
      "cell_type": "code",
      "source": [
        "# code to allow for visualizations\n",
        "import IPython\n",
        "from IPython.display import Image\n"
      ],
      "metadata": {
        "id": "QS39O3cuNrN_"
      },
      "id": "QS39O3cuNrN_",
      "execution_count": null,
      "outputs": []
    },
    {
      "cell_type": "markdown",
      "source": [
        "#### Exploratory Data Analysis\n"
      ],
      "metadata": {
        "id": "fIK8BCtxaW9A"
      },
      "id": "fIK8BCtxaW9A"
    },
    {
      "cell_type": "markdown",
      "source": [
        ""
      ],
      "metadata": {
        "id": "OhrB6hmdNPsW"
      },
      "id": "OhrB6hmdNPsW"
    },
    {
      "cell_type": "markdown",
      "source": [
        ""
      ],
      "metadata": {
        "id": "Ip88o6YNNPp3"
      },
      "id": "Ip88o6YNNPp3"
    },
    {
      "cell_type": "markdown",
      "source": [
        ""
      ],
      "metadata": {
        "id": "p3t3ZaP-NPnY"
      },
      "id": "p3t3ZaP-NPnY"
    },
    {
      "cell_type": "markdown",
      "source": [
        ""
      ],
      "metadata": {
        "id": "qrwm_XOONPkg"
      },
      "id": "qrwm_XOONPkg"
    },
    {
      "cell_type": "code",
      "source": [
        ""
      ],
      "metadata": {
        "id": "gspPaqftNNRU"
      },
      "id": "gspPaqftNNRU",
      "execution_count": null,
      "outputs": []
    },
    {
      "cell_type": "code",
      "source": [
        ""
      ],
      "metadata": {
        "id": "lZnKlepiNNA5"
      },
      "id": "lZnKlepiNNA5",
      "execution_count": null,
      "outputs": []
    },
    {
      "cell_type": "code",
      "source": [
        "url = 'https://marymlucas.github.io/adult-icu_utilization/'\n",
        "iframe = '<iframe src=' + url + ' width=100% height=600></iframe>'\n",
        "IPython.display.HTML(iframe)"
      ],
      "metadata": {
        "id": "_KawphFJaY6X",
        "outputId": "f1a8df17-8a48-4735-9d4f-5c9e313bc2c1",
        "colab": {
          "base_uri": "https://localhost:8080/",
          "height": 645
        }
      },
      "id": "_KawphFJaY6X",
      "execution_count": null,
      "outputs": [
        {
          "output_type": "execute_result",
          "data": {
            "text/plain": [
              "<IPython.core.display.HTML object>"
            ],
            "text/html": [
              "<iframe src=https://marymlucas.github.io/adult-icu_utilization/ width=100% height=600></iframe>"
            ]
          },
          "metadata": {},
          "execution_count": 2
        }
      ]
    },
    {
      "cell_type": "markdown",
      "id": "4ef30748",
      "metadata": {
        "id": "4ef30748"
      },
      "source": [
        "### Methods\n",
        "\n",
        "\n",
        "#### Data Preprocessing\n",
        "\n",
        "##### Feature Selection\n",
        "After an initial data exploration phase, we selected xx variables out of the 117 to retain for our analysis.  This selection was made based on .....\n",
        "\n",
        "\n",
        "##### Calculating Burden\n",
        "To calculate burden, we used the criteria set by The US Department of Health and Human Services.  According to French et.al., (2021), “HHS has studied the relationship between hospital bed use and hospital strain and has identified occupancy >80% as an indicator of a strained condition. This analysis uses a continuous measure of ICU bed occupancy as a proxy for hospital strain, such that greater amounts of ICU bed use indicate larger amounts of hospital strain.” \n",
        "\n",
        "We determined from our survey of the relevant literature that 80% threshold is a good, validated metric for hospital strain that we could use as an indicator for our analysis.\n",
        "\n",
        "\n",
        "##### Determining Under-Reporting\n",
        "To make our analysis meaningful, we decided to remove states that had high levels of underreporting.  For each variables in each row (day of data reported in the state), there is a corresponding \"coverage\" variable (denoted as metric-name_coverage). This coverage feature reports how many hospitals in the state submitted information about the related variable. For example, in the case of our main feaure of interest (adult_icu_bed_utilization), the adult_icu_bed_utilization_coverage feature gives an indication of how many hospitals in the state reported their adult icu bed utilization that day. \n",
        "\n",
        "By comparing the coverage with the number of hospitals in each state we were able to derive a simple measure of the level of reporting for each state.\n",
        "\n",
        "The most current list of hospital numbers was obtained from the Kaiser Family Foundation website (https://www.kff.org/other/state-indicator/total-hospitals) which reports data from the American Hospital Association (1999 - 2019) Annual Survey. \n",
        "\n",
        "It's important to note the disclaimer that \"Data are for community hospitals, which represent 85% of all hospitals\" where community hospitals are defined as \"all nonfederal, short-term general, and specialty hospitals whose facilities and services are available to the public.\"\n",
        "\n",
        "In selecting a threshold, we considered the guidelines by the HHS for hospitals on how to report their numbers - https://www.hhs.gov/sites/default/files/covid-19-faqs-hospitals-hospital-laboratory-acute-care-facility-data-reporting.pdf. While this is a recent update, we noted that the changes from previous requirements did not affect the requirement to report, only what fields are reported (https://healthdata.gov/stories/s/COVID-19-Reporting-and-FAQS/kjst-g9cm/). Based on this we came up with a definition of under-reporting as \"states where greater than 25% of the hospitals reported acute_icu_bed_utilization.\"\n",
        "\n",
        "\n",
        "#### Data Analysis\n",
        "We employed time series analysis and forecasting methods ...\n",
        "\n"
      ]
    },
    {
      "cell_type": "markdown",
      "id": "f211c026",
      "metadata": {
        "id": "f211c026"
      },
      "source": [
        "## Results\n"
      ]
    },
    {
      "cell_type": "markdown",
      "id": "f5967a58",
      "metadata": {
        "id": "f5967a58"
      },
      "source": [
        "## Reflections on Strengths and Limitations\n",
        "\n",
        "### Strengths:\n",
        "\n",
        "### Limitations:\n",
        "We had initially intended to explore our data primarily through the lens of health disparities, but we made the decision to defer this aspect for future work.  The reason behind this decision were threefold:\n",
        "\n",
        "1. The data available to assess COVID vulnerability as determined by the US Department of Human and Health Services was not updated and there was no data dictionary or robust description of how the assessment of vulnerability was done. We reached out to the data curators but have not received a response.\n",
        "\n",
        "2. Disparities are difficult to measure without a clear way/measure to rank the different groups. Because the datasets we chose to use for time series forecasting only provide information at the state level, it was too broad for us to map socioeconomic data onto. In future, it would be interesting to analyse timeseries information at the County level and then use Census data to, for example,  map socioeconomic indicatirs for the different counties. This would allow a more useful calculation and analysis of health disparities between groups.\n",
        "\n",
        "3. There were time limitations that did not allow us enough latitude to explore the COVID vulnerability data and to continue reaching out to the data curators for additional details or updated data.  This would be interesting to pursue going forward and would add to our examination of disparities.\n",
        "\n"
      ]
    },
    {
      "cell_type": "markdown",
      "id": "9208f4f6",
      "metadata": {
        "id": "9208f4f6"
      },
      "source": [
        "## Summary"
      ]
    },
    {
      "cell_type": "markdown",
      "id": "8fbf6f7e",
      "metadata": {
        "id": "8fbf6f7e"
      },
      "source": [
        "## References"
      ]
    },
    {
      "cell_type": "markdown",
      "id": "e0bf1bdd",
      "metadata": {
        "id": "e0bf1bdd"
      },
      "source": [
        "<div class=\"csl-entry\">French, G., Hulse, M., Nguyen, D., Sobotka, K., Webster, K., Corman, J., Aboagye-Nyame, B., Dion, M., Johnson, M., Zalinger, B., &#38; Ewing, M. (2021). Impact of Hospital Strain on Excess Deaths During the COVID-19 Pandemic — United States, July 2020–July 2021. <i>MMWR. Morbidity and Mortality Weekly Report</i>, <i>70</i>(46), 1613–1616. https://doi.org/10.15585/MMWR.MM7046A5</div>"
      ]
    },
    {
      "cell_type": "code",
      "execution_count": null,
      "id": "1a86c441",
      "metadata": {
        "id": "1a86c441"
      },
      "outputs": [],
      "source": [
        ""
      ]
    }
  ],
  "metadata": {
    "kernelspec": {
      "display_name": "Python 3 (ipykernel)",
      "language": "python",
      "name": "python3"
    },
    "language_info": {
      "codemirror_mode": {
        "name": "ipython",
        "version": 3
      },
      "file_extension": ".py",
      "mimetype": "text/x-python",
      "name": "python",
      "nbconvert_exporter": "python",
      "pygments_lexer": "ipython3",
      "version": "3.9.5"
    },
    "colab": {
      "name": "project.ipynb",
      "provenance": [],
      "include_colab_link": true
    }
  },
  "nbformat": 4,
  "nbformat_minor": 5
}